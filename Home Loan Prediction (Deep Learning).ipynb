{
 "cells": [
  {
   "cell_type": "code",
   "execution_count": 1,
   "metadata": {},
   "outputs": [],
   "source": [
    "import pandas as pd\n",
    "import numpy as np\n",
    "from sklearn import preprocessing,model_selection\n",
    "import tensorflow as tf\n",
    "from tensorflow import keras\n",
    "from tensorflow.keras import layers,callbacks\n",
    "from tensorflow.keras.callbacks import EarlyStopping\n"
   ]
  },
  {
   "cell_type": "code",
   "execution_count": 2,
   "metadata": {},
   "outputs": [],
   "source": [
    "from numpy.random import seed\n",
    "# setting the seed\n",
    "seed(0)\n",
    "tf.random.set_seed(0)"
   ]
  },
  {
   "cell_type": "code",
   "execution_count": 3,
   "metadata": {
    "scrolled": false
   },
   "outputs": [
    {
     "data": {
      "text/html": [
       "<div>\n",
       "<style scoped>\n",
       "    .dataframe tbody tr th:only-of-type {\n",
       "        vertical-align: middle;\n",
       "    }\n",
       "\n",
       "    .dataframe tbody tr th {\n",
       "        vertical-align: top;\n",
       "    }\n",
       "\n",
       "    .dataframe thead th {\n",
       "        text-align: right;\n",
       "    }\n",
       "</style>\n",
       "<table border=\"1\" class=\"dataframe\">\n",
       "  <thead>\n",
       "    <tr style=\"text-align: right;\">\n",
       "      <th></th>\n",
       "      <th>SK_ID_CURR</th>\n",
       "      <th>TARGET</th>\n",
       "      <th>NAME_CONTRACT_TYPE</th>\n",
       "      <th>CODE_GENDER</th>\n",
       "      <th>FLAG_OWN_CAR</th>\n",
       "      <th>FLAG_OWN_REALTY</th>\n",
       "      <th>CNT_CHILDREN</th>\n",
       "      <th>AMT_INCOME_TOTAL</th>\n",
       "      <th>AMT_CREDIT</th>\n",
       "      <th>AMT_ANNUITY</th>\n",
       "      <th>...</th>\n",
       "      <th>FLAG_DOCUMENT_18</th>\n",
       "      <th>FLAG_DOCUMENT_19</th>\n",
       "      <th>FLAG_DOCUMENT_20</th>\n",
       "      <th>FLAG_DOCUMENT_21</th>\n",
       "      <th>AMT_REQ_CREDIT_BUREAU_HOUR</th>\n",
       "      <th>AMT_REQ_CREDIT_BUREAU_DAY</th>\n",
       "      <th>AMT_REQ_CREDIT_BUREAU_WEEK</th>\n",
       "      <th>AMT_REQ_CREDIT_BUREAU_MON</th>\n",
       "      <th>AMT_REQ_CREDIT_BUREAU_QRT</th>\n",
       "      <th>AMT_REQ_CREDIT_BUREAU_YEAR</th>\n",
       "    </tr>\n",
       "  </thead>\n",
       "  <tbody>\n",
       "    <tr>\n",
       "      <th>0</th>\n",
       "      <td>100002</td>\n",
       "      <td>1</td>\n",
       "      <td>Cash loans</td>\n",
       "      <td>M</td>\n",
       "      <td>N</td>\n",
       "      <td>Y</td>\n",
       "      <td>0</td>\n",
       "      <td>202500.0</td>\n",
       "      <td>406597.5</td>\n",
       "      <td>24700.5</td>\n",
       "      <td>...</td>\n",
       "      <td>0</td>\n",
       "      <td>0</td>\n",
       "      <td>0</td>\n",
       "      <td>0</td>\n",
       "      <td>0.0</td>\n",
       "      <td>0.0</td>\n",
       "      <td>0.0</td>\n",
       "      <td>0.0</td>\n",
       "      <td>0.0</td>\n",
       "      <td>1.0</td>\n",
       "    </tr>\n",
       "    <tr>\n",
       "      <th>1</th>\n",
       "      <td>100003</td>\n",
       "      <td>0</td>\n",
       "      <td>Cash loans</td>\n",
       "      <td>F</td>\n",
       "      <td>N</td>\n",
       "      <td>N</td>\n",
       "      <td>0</td>\n",
       "      <td>270000.0</td>\n",
       "      <td>1293502.5</td>\n",
       "      <td>35698.5</td>\n",
       "      <td>...</td>\n",
       "      <td>0</td>\n",
       "      <td>0</td>\n",
       "      <td>0</td>\n",
       "      <td>0</td>\n",
       "      <td>0.0</td>\n",
       "      <td>0.0</td>\n",
       "      <td>0.0</td>\n",
       "      <td>0.0</td>\n",
       "      <td>0.0</td>\n",
       "      <td>0.0</td>\n",
       "    </tr>\n",
       "    <tr>\n",
       "      <th>2</th>\n",
       "      <td>100004</td>\n",
       "      <td>0</td>\n",
       "      <td>Revolving loans</td>\n",
       "      <td>M</td>\n",
       "      <td>Y</td>\n",
       "      <td>Y</td>\n",
       "      <td>0</td>\n",
       "      <td>67500.0</td>\n",
       "      <td>135000.0</td>\n",
       "      <td>6750.0</td>\n",
       "      <td>...</td>\n",
       "      <td>0</td>\n",
       "      <td>0</td>\n",
       "      <td>0</td>\n",
       "      <td>0</td>\n",
       "      <td>0.0</td>\n",
       "      <td>0.0</td>\n",
       "      <td>0.0</td>\n",
       "      <td>0.0</td>\n",
       "      <td>0.0</td>\n",
       "      <td>0.0</td>\n",
       "    </tr>\n",
       "    <tr>\n",
       "      <th>3</th>\n",
       "      <td>100006</td>\n",
       "      <td>0</td>\n",
       "      <td>Cash loans</td>\n",
       "      <td>F</td>\n",
       "      <td>N</td>\n",
       "      <td>Y</td>\n",
       "      <td>0</td>\n",
       "      <td>135000.0</td>\n",
       "      <td>312682.5</td>\n",
       "      <td>29686.5</td>\n",
       "      <td>...</td>\n",
       "      <td>0</td>\n",
       "      <td>0</td>\n",
       "      <td>0</td>\n",
       "      <td>0</td>\n",
       "      <td>NaN</td>\n",
       "      <td>NaN</td>\n",
       "      <td>NaN</td>\n",
       "      <td>NaN</td>\n",
       "      <td>NaN</td>\n",
       "      <td>NaN</td>\n",
       "    </tr>\n",
       "    <tr>\n",
       "      <th>4</th>\n",
       "      <td>100007</td>\n",
       "      <td>0</td>\n",
       "      <td>Cash loans</td>\n",
       "      <td>M</td>\n",
       "      <td>N</td>\n",
       "      <td>Y</td>\n",
       "      <td>0</td>\n",
       "      <td>121500.0</td>\n",
       "      <td>513000.0</td>\n",
       "      <td>21865.5</td>\n",
       "      <td>...</td>\n",
       "      <td>0</td>\n",
       "      <td>0</td>\n",
       "      <td>0</td>\n",
       "      <td>0</td>\n",
       "      <td>0.0</td>\n",
       "      <td>0.0</td>\n",
       "      <td>0.0</td>\n",
       "      <td>0.0</td>\n",
       "      <td>0.0</td>\n",
       "      <td>0.0</td>\n",
       "    </tr>\n",
       "  </tbody>\n",
       "</table>\n",
       "<p>5 rows × 122 columns</p>\n",
       "</div>"
      ],
      "text/plain": [
       "   SK_ID_CURR  TARGET NAME_CONTRACT_TYPE CODE_GENDER FLAG_OWN_CAR  \\\n",
       "0      100002       1         Cash loans           M            N   \n",
       "1      100003       0         Cash loans           F            N   \n",
       "2      100004       0    Revolving loans           M            Y   \n",
       "3      100006       0         Cash loans           F            N   \n",
       "4      100007       0         Cash loans           M            N   \n",
       "\n",
       "  FLAG_OWN_REALTY  CNT_CHILDREN  AMT_INCOME_TOTAL  AMT_CREDIT  AMT_ANNUITY  \\\n",
       "0               Y             0          202500.0    406597.5      24700.5   \n",
       "1               N             0          270000.0   1293502.5      35698.5   \n",
       "2               Y             0           67500.0    135000.0       6750.0   \n",
       "3               Y             0          135000.0    312682.5      29686.5   \n",
       "4               Y             0          121500.0    513000.0      21865.5   \n",
       "\n",
       "   ...  FLAG_DOCUMENT_18 FLAG_DOCUMENT_19 FLAG_DOCUMENT_20 FLAG_DOCUMENT_21  \\\n",
       "0  ...                 0                0                0                0   \n",
       "1  ...                 0                0                0                0   \n",
       "2  ...                 0                0                0                0   \n",
       "3  ...                 0                0                0                0   \n",
       "4  ...                 0                0                0                0   \n",
       "\n",
       "  AMT_REQ_CREDIT_BUREAU_HOUR AMT_REQ_CREDIT_BUREAU_DAY  \\\n",
       "0                        0.0                       0.0   \n",
       "1                        0.0                       0.0   \n",
       "2                        0.0                       0.0   \n",
       "3                        NaN                       NaN   \n",
       "4                        0.0                       0.0   \n",
       "\n",
       "   AMT_REQ_CREDIT_BUREAU_WEEK  AMT_REQ_CREDIT_BUREAU_MON  \\\n",
       "0                         0.0                        0.0   \n",
       "1                         0.0                        0.0   \n",
       "2                         0.0                        0.0   \n",
       "3                         NaN                        NaN   \n",
       "4                         0.0                        0.0   \n",
       "\n",
       "   AMT_REQ_CREDIT_BUREAU_QRT  AMT_REQ_CREDIT_BUREAU_YEAR  \n",
       "0                        0.0                         1.0  \n",
       "1                        0.0                         0.0  \n",
       "2                        0.0                         0.0  \n",
       "3                        NaN                         NaN  \n",
       "4                        0.0                         0.0  \n",
       "\n",
       "[5 rows x 122 columns]"
      ]
     },
     "execution_count": 3,
     "metadata": {},
     "output_type": "execute_result"
    }
   ],
   "source": [
    "df = pd.read_csv(r'C:\\Users\\utkar\\OneDrive\\Desktop\\Machine Learning\\loan_data.csv')\n",
    "df.head()"
   ]
  },
  {
   "cell_type": "code",
   "execution_count": 4,
   "metadata": {},
   "outputs": [
    {
     "data": {
      "text/plain": [
       "(307511, 122)"
      ]
     },
     "execution_count": 4,
     "metadata": {},
     "output_type": "execute_result"
    }
   ],
   "source": [
    "df.shape"
   ]
  },
  {
   "cell_type": "code",
   "execution_count": 5,
   "metadata": {
    "scrolled": false
   },
   "outputs": [
    {
     "data": {
      "text/plain": [
       "SK_ID_CURR                        0\n",
       "TARGET                            0\n",
       "NAME_CONTRACT_TYPE                0\n",
       "CODE_GENDER                       0\n",
       "FLAG_OWN_CAR                      0\n",
       "                              ...  \n",
       "AMT_REQ_CREDIT_BUREAU_DAY     41519\n",
       "AMT_REQ_CREDIT_BUREAU_WEEK    41519\n",
       "AMT_REQ_CREDIT_BUREAU_MON     41519\n",
       "AMT_REQ_CREDIT_BUREAU_QRT     41519\n",
       "AMT_REQ_CREDIT_BUREAU_YEAR    41519\n",
       "Length: 122, dtype: int64"
      ]
     },
     "execution_count": 5,
     "metadata": {},
     "output_type": "execute_result"
    }
   ],
   "source": [
    "df.isnull().sum()"
   ]
  },
  {
   "cell_type": "code",
   "execution_count": 6,
   "metadata": {
    "scrolled": false
   },
   "outputs": [
    {
     "data": {
      "text/html": [
       "<div>\n",
       "<style scoped>\n",
       "    .dataframe tbody tr th:only-of-type {\n",
       "        vertical-align: middle;\n",
       "    }\n",
       "\n",
       "    .dataframe tbody tr th {\n",
       "        vertical-align: top;\n",
       "    }\n",
       "\n",
       "    .dataframe thead th {\n",
       "        text-align: right;\n",
       "    }\n",
       "</style>\n",
       "<table border=\"1\" class=\"dataframe\">\n",
       "  <thead>\n",
       "    <tr style=\"text-align: right;\">\n",
       "      <th></th>\n",
       "      <th>SK_ID_CURR</th>\n",
       "      <th>TARGET</th>\n",
       "      <th>NAME_CONTRACT_TYPE</th>\n",
       "      <th>CODE_GENDER</th>\n",
       "      <th>FLAG_OWN_CAR</th>\n",
       "      <th>FLAG_OWN_REALTY</th>\n",
       "      <th>CNT_CHILDREN</th>\n",
       "      <th>AMT_INCOME_TOTAL</th>\n",
       "      <th>AMT_CREDIT</th>\n",
       "      <th>AMT_ANNUITY</th>\n",
       "      <th>...</th>\n",
       "      <th>FLAG_DOCUMENT_18</th>\n",
       "      <th>FLAG_DOCUMENT_19</th>\n",
       "      <th>FLAG_DOCUMENT_20</th>\n",
       "      <th>FLAG_DOCUMENT_21</th>\n",
       "      <th>AMT_REQ_CREDIT_BUREAU_HOUR</th>\n",
       "      <th>AMT_REQ_CREDIT_BUREAU_DAY</th>\n",
       "      <th>AMT_REQ_CREDIT_BUREAU_WEEK</th>\n",
       "      <th>AMT_REQ_CREDIT_BUREAU_MON</th>\n",
       "      <th>AMT_REQ_CREDIT_BUREAU_QRT</th>\n",
       "      <th>AMT_REQ_CREDIT_BUREAU_YEAR</th>\n",
       "    </tr>\n",
       "  </thead>\n",
       "  <tbody>\n",
       "    <tr>\n",
       "      <th>71</th>\n",
       "      <td>100083</td>\n",
       "      <td>0</td>\n",
       "      <td>Cash loans</td>\n",
       "      <td>M</td>\n",
       "      <td>Y</td>\n",
       "      <td>Y</td>\n",
       "      <td>0</td>\n",
       "      <td>103500.0</td>\n",
       "      <td>573628.5</td>\n",
       "      <td>24435.0</td>\n",
       "      <td>...</td>\n",
       "      <td>0</td>\n",
       "      <td>0</td>\n",
       "      <td>0</td>\n",
       "      <td>0</td>\n",
       "      <td>0.0</td>\n",
       "      <td>0.0</td>\n",
       "      <td>0.0</td>\n",
       "      <td>0.0</td>\n",
       "      <td>0.0</td>\n",
       "      <td>3.0</td>\n",
       "    </tr>\n",
       "    <tr>\n",
       "      <th>124</th>\n",
       "      <td>100145</td>\n",
       "      <td>0</td>\n",
       "      <td>Cash loans</td>\n",
       "      <td>F</td>\n",
       "      <td>Y</td>\n",
       "      <td>Y</td>\n",
       "      <td>1</td>\n",
       "      <td>202500.0</td>\n",
       "      <td>260725.5</td>\n",
       "      <td>16789.5</td>\n",
       "      <td>...</td>\n",
       "      <td>0</td>\n",
       "      <td>0</td>\n",
       "      <td>0</td>\n",
       "      <td>0</td>\n",
       "      <td>0.0</td>\n",
       "      <td>0.0</td>\n",
       "      <td>0.0</td>\n",
       "      <td>0.0</td>\n",
       "      <td>0.0</td>\n",
       "      <td>3.0</td>\n",
       "    </tr>\n",
       "    <tr>\n",
       "      <th>152</th>\n",
       "      <td>100179</td>\n",
       "      <td>0</td>\n",
       "      <td>Cash loans</td>\n",
       "      <td>F</td>\n",
       "      <td>Y</td>\n",
       "      <td>N</td>\n",
       "      <td>0</td>\n",
       "      <td>202500.0</td>\n",
       "      <td>675000.0</td>\n",
       "      <td>53329.5</td>\n",
       "      <td>...</td>\n",
       "      <td>0</td>\n",
       "      <td>0</td>\n",
       "      <td>0</td>\n",
       "      <td>0</td>\n",
       "      <td>0.0</td>\n",
       "      <td>0.0</td>\n",
       "      <td>0.0</td>\n",
       "      <td>1.0</td>\n",
       "      <td>0.0</td>\n",
       "      <td>4.0</td>\n",
       "    </tr>\n",
       "    <tr>\n",
       "      <th>161</th>\n",
       "      <td>100190</td>\n",
       "      <td>0</td>\n",
       "      <td>Cash loans</td>\n",
       "      <td>M</td>\n",
       "      <td>Y</td>\n",
       "      <td>N</td>\n",
       "      <td>0</td>\n",
       "      <td>162000.0</td>\n",
       "      <td>263686.5</td>\n",
       "      <td>24781.5</td>\n",
       "      <td>...</td>\n",
       "      <td>0</td>\n",
       "      <td>0</td>\n",
       "      <td>0</td>\n",
       "      <td>0</td>\n",
       "      <td>0.0</td>\n",
       "      <td>0.0</td>\n",
       "      <td>0.0</td>\n",
       "      <td>0.0</td>\n",
       "      <td>0.0</td>\n",
       "      <td>3.0</td>\n",
       "    </tr>\n",
       "    <tr>\n",
       "      <th>255</th>\n",
       "      <td>100295</td>\n",
       "      <td>1</td>\n",
       "      <td>Cash loans</td>\n",
       "      <td>M</td>\n",
       "      <td>Y</td>\n",
       "      <td>N</td>\n",
       "      <td>1</td>\n",
       "      <td>225000.0</td>\n",
       "      <td>1019205.0</td>\n",
       "      <td>31032.0</td>\n",
       "      <td>...</td>\n",
       "      <td>1</td>\n",
       "      <td>0</td>\n",
       "      <td>0</td>\n",
       "      <td>0</td>\n",
       "      <td>0.0</td>\n",
       "      <td>0.0</td>\n",
       "      <td>0.0</td>\n",
       "      <td>6.0</td>\n",
       "      <td>0.0</td>\n",
       "      <td>1.0</td>\n",
       "    </tr>\n",
       "    <tr>\n",
       "      <th>...</th>\n",
       "      <td>...</td>\n",
       "      <td>...</td>\n",
       "      <td>...</td>\n",
       "      <td>...</td>\n",
       "      <td>...</td>\n",
       "      <td>...</td>\n",
       "      <td>...</td>\n",
       "      <td>...</td>\n",
       "      <td>...</td>\n",
       "      <td>...</td>\n",
       "      <td>...</td>\n",
       "      <td>...</td>\n",
       "      <td>...</td>\n",
       "      <td>...</td>\n",
       "      <td>...</td>\n",
       "      <td>...</td>\n",
       "      <td>...</td>\n",
       "      <td>...</td>\n",
       "      <td>...</td>\n",
       "      <td>...</td>\n",
       "      <td>...</td>\n",
       "    </tr>\n",
       "    <tr>\n",
       "      <th>307358</th>\n",
       "      <td>456083</td>\n",
       "      <td>0</td>\n",
       "      <td>Cash loans</td>\n",
       "      <td>F</td>\n",
       "      <td>Y</td>\n",
       "      <td>Y</td>\n",
       "      <td>2</td>\n",
       "      <td>112500.0</td>\n",
       "      <td>361462.5</td>\n",
       "      <td>16051.5</td>\n",
       "      <td>...</td>\n",
       "      <td>0</td>\n",
       "      <td>0</td>\n",
       "      <td>0</td>\n",
       "      <td>0</td>\n",
       "      <td>0.0</td>\n",
       "      <td>0.0</td>\n",
       "      <td>0.0</td>\n",
       "      <td>2.0</td>\n",
       "      <td>0.0</td>\n",
       "      <td>0.0</td>\n",
       "    </tr>\n",
       "    <tr>\n",
       "      <th>307359</th>\n",
       "      <td>456084</td>\n",
       "      <td>0</td>\n",
       "      <td>Cash loans</td>\n",
       "      <td>F</td>\n",
       "      <td>Y</td>\n",
       "      <td>Y</td>\n",
       "      <td>1</td>\n",
       "      <td>99000.0</td>\n",
       "      <td>675000.0</td>\n",
       "      <td>21906.0</td>\n",
       "      <td>...</td>\n",
       "      <td>0</td>\n",
       "      <td>0</td>\n",
       "      <td>0</td>\n",
       "      <td>0</td>\n",
       "      <td>0.0</td>\n",
       "      <td>0.0</td>\n",
       "      <td>0.0</td>\n",
       "      <td>0.0</td>\n",
       "      <td>0.0</td>\n",
       "      <td>0.0</td>\n",
       "    </tr>\n",
       "    <tr>\n",
       "      <th>307407</th>\n",
       "      <td>456140</td>\n",
       "      <td>1</td>\n",
       "      <td>Cash loans</td>\n",
       "      <td>F</td>\n",
       "      <td>Y</td>\n",
       "      <td>Y</td>\n",
       "      <td>1</td>\n",
       "      <td>261000.0</td>\n",
       "      <td>711454.5</td>\n",
       "      <td>47673.0</td>\n",
       "      <td>...</td>\n",
       "      <td>0</td>\n",
       "      <td>0</td>\n",
       "      <td>0</td>\n",
       "      <td>0</td>\n",
       "      <td>0.0</td>\n",
       "      <td>0.0</td>\n",
       "      <td>0.0</td>\n",
       "      <td>1.0</td>\n",
       "      <td>0.0</td>\n",
       "      <td>1.0</td>\n",
       "    </tr>\n",
       "    <tr>\n",
       "      <th>307456</th>\n",
       "      <td>456195</td>\n",
       "      <td>0</td>\n",
       "      <td>Cash loans</td>\n",
       "      <td>F</td>\n",
       "      <td>Y</td>\n",
       "      <td>Y</td>\n",
       "      <td>0</td>\n",
       "      <td>94500.0</td>\n",
       "      <td>270000.0</td>\n",
       "      <td>15075.0</td>\n",
       "      <td>...</td>\n",
       "      <td>0</td>\n",
       "      <td>0</td>\n",
       "      <td>0</td>\n",
       "      <td>0</td>\n",
       "      <td>0.0</td>\n",
       "      <td>0.0</td>\n",
       "      <td>0.0</td>\n",
       "      <td>0.0</td>\n",
       "      <td>0.0</td>\n",
       "      <td>3.0</td>\n",
       "    </tr>\n",
       "    <tr>\n",
       "      <th>307482</th>\n",
       "      <td>456226</td>\n",
       "      <td>0</td>\n",
       "      <td>Cash loans</td>\n",
       "      <td>F</td>\n",
       "      <td>Y</td>\n",
       "      <td>Y</td>\n",
       "      <td>0</td>\n",
       "      <td>225000.0</td>\n",
       "      <td>500566.5</td>\n",
       "      <td>34969.5</td>\n",
       "      <td>...</td>\n",
       "      <td>0</td>\n",
       "      <td>0</td>\n",
       "      <td>0</td>\n",
       "      <td>0</td>\n",
       "      <td>0.0</td>\n",
       "      <td>0.0</td>\n",
       "      <td>0.0</td>\n",
       "      <td>0.0</td>\n",
       "      <td>0.0</td>\n",
       "      <td>1.0</td>\n",
       "    </tr>\n",
       "  </tbody>\n",
       "</table>\n",
       "<p>8602 rows × 122 columns</p>\n",
       "</div>"
      ],
      "text/plain": [
       "        SK_ID_CURR  TARGET NAME_CONTRACT_TYPE CODE_GENDER FLAG_OWN_CAR  \\\n",
       "71          100083       0         Cash loans           M            Y   \n",
       "124         100145       0         Cash loans           F            Y   \n",
       "152         100179       0         Cash loans           F            Y   \n",
       "161         100190       0         Cash loans           M            Y   \n",
       "255         100295       1         Cash loans           M            Y   \n",
       "...            ...     ...                ...         ...          ...   \n",
       "307358      456083       0         Cash loans           F            Y   \n",
       "307359      456084       0         Cash loans           F            Y   \n",
       "307407      456140       1         Cash loans           F            Y   \n",
       "307456      456195       0         Cash loans           F            Y   \n",
       "307482      456226       0         Cash loans           F            Y   \n",
       "\n",
       "       FLAG_OWN_REALTY  CNT_CHILDREN  AMT_INCOME_TOTAL  AMT_CREDIT  \\\n",
       "71                   Y             0          103500.0    573628.5   \n",
       "124                  Y             1          202500.0    260725.5   \n",
       "152                  N             0          202500.0    675000.0   \n",
       "161                  N             0          162000.0    263686.5   \n",
       "255                  N             1          225000.0   1019205.0   \n",
       "...                ...           ...               ...         ...   \n",
       "307358               Y             2          112500.0    361462.5   \n",
       "307359               Y             1           99000.0    675000.0   \n",
       "307407               Y             1          261000.0    711454.5   \n",
       "307456               Y             0           94500.0    270000.0   \n",
       "307482               Y             0          225000.0    500566.5   \n",
       "\n",
       "        AMT_ANNUITY  ...  FLAG_DOCUMENT_18 FLAG_DOCUMENT_19 FLAG_DOCUMENT_20  \\\n",
       "71          24435.0  ...                 0                0                0   \n",
       "124         16789.5  ...                 0                0                0   \n",
       "152         53329.5  ...                 0                0                0   \n",
       "161         24781.5  ...                 0                0                0   \n",
       "255         31032.0  ...                 1                0                0   \n",
       "...             ...  ...               ...              ...              ...   \n",
       "307358      16051.5  ...                 0                0                0   \n",
       "307359      21906.0  ...                 0                0                0   \n",
       "307407      47673.0  ...                 0                0                0   \n",
       "307456      15075.0  ...                 0                0                0   \n",
       "307482      34969.5  ...                 0                0                0   \n",
       "\n",
       "       FLAG_DOCUMENT_21 AMT_REQ_CREDIT_BUREAU_HOUR AMT_REQ_CREDIT_BUREAU_DAY  \\\n",
       "71                    0                        0.0                       0.0   \n",
       "124                   0                        0.0                       0.0   \n",
       "152                   0                        0.0                       0.0   \n",
       "161                   0                        0.0                       0.0   \n",
       "255                   0                        0.0                       0.0   \n",
       "...                 ...                        ...                       ...   \n",
       "307358                0                        0.0                       0.0   \n",
       "307359                0                        0.0                       0.0   \n",
       "307407                0                        0.0                       0.0   \n",
       "307456                0                        0.0                       0.0   \n",
       "307482                0                        0.0                       0.0   \n",
       "\n",
       "        AMT_REQ_CREDIT_BUREAU_WEEK  AMT_REQ_CREDIT_BUREAU_MON  \\\n",
       "71                             0.0                        0.0   \n",
       "124                            0.0                        0.0   \n",
       "152                            0.0                        1.0   \n",
       "161                            0.0                        0.0   \n",
       "255                            0.0                        6.0   \n",
       "...                            ...                        ...   \n",
       "307358                         0.0                        2.0   \n",
       "307359                         0.0                        0.0   \n",
       "307407                         0.0                        1.0   \n",
       "307456                         0.0                        0.0   \n",
       "307482                         0.0                        0.0   \n",
       "\n",
       "        AMT_REQ_CREDIT_BUREAU_QRT  AMT_REQ_CREDIT_BUREAU_YEAR  \n",
       "71                            0.0                         3.0  \n",
       "124                           0.0                         3.0  \n",
       "152                           0.0                         4.0  \n",
       "161                           0.0                         3.0  \n",
       "255                           0.0                         1.0  \n",
       "...                           ...                         ...  \n",
       "307358                        0.0                         0.0  \n",
       "307359                        0.0                         0.0  \n",
       "307407                        0.0                         1.0  \n",
       "307456                        0.0                         3.0  \n",
       "307482                        0.0                         1.0  \n",
       "\n",
       "[8602 rows x 122 columns]"
      ]
     },
     "execution_count": 6,
     "metadata": {},
     "output_type": "execute_result"
    }
   ],
   "source": [
    "dfna = df.dropna()\n",
    "dfna"
   ]
  },
  {
   "cell_type": "code",
   "execution_count": 7,
   "metadata": {
    "scrolled": true
   },
   "outputs": [
    {
     "name": "stdout",
     "output_type": "stream",
     "text": [
      "0         1\n",
      "1         0\n",
      "2         0\n",
      "3         0\n",
      "4         0\n",
      "         ..\n",
      "307506    0\n",
      "307507    0\n",
      "307508    0\n",
      "307509    1\n",
      "307510    0\n",
      "Name: TARGET, Length: 307511, dtype: int64\n"
     ]
    }
   ],
   "source": [
    "print(df['TARGET'])"
   ]
  },
  {
   "cell_type": "code",
   "execution_count": 8,
   "metadata": {},
   "outputs": [
    {
     "data": {
      "text/plain": [
       "(8602, 122)"
      ]
     },
     "execution_count": 8,
     "metadata": {},
     "output_type": "execute_result"
    }
   ],
   "source": [
    "dfna.shape"
   ]
  },
  {
   "cell_type": "code",
   "execution_count": 9,
   "metadata": {},
   "outputs": [],
   "source": [
    "value = set(dfna['TARGET'])"
   ]
  },
  {
   "cell_type": "code",
   "execution_count": 10,
   "metadata": {},
   "outputs": [
    {
     "name": "stdout",
     "output_type": "stream",
     "text": [
      "{0, 1}\n"
     ]
    }
   ],
   "source": [
    "print(value)"
   ]
  },
  {
   "cell_type": "code",
   "execution_count": 11,
   "metadata": {},
   "outputs": [
    {
     "name": "stdout",
     "output_type": "stream",
     "text": [
      "8076\n"
     ]
    }
   ],
   "source": [
    "zeros = dfna['TARGET'].isin([0]).sum()\n",
    "print(zeros)"
   ]
  },
  {
   "cell_type": "code",
   "execution_count": 12,
   "metadata": {},
   "outputs": [
    {
     "name": "stdout",
     "output_type": "stream",
     "text": [
      "526\n"
     ]
    }
   ],
   "source": [
    "ones = dfna['TARGET'].isin([1]).sum()\n",
    "print(ones)"
   ]
  },
  {
   "cell_type": "code",
   "execution_count": 13,
   "metadata": {
    "scrolled": true
   },
   "outputs": [
    {
     "name": "stdout",
     "output_type": "stream",
     "text": [
      "1535.361216730038\n"
     ]
    }
   ],
   "source": [
    "print((zeros / ones)*100)"
   ]
  },
  {
   "cell_type": "code",
   "execution_count": 14,
   "metadata": {},
   "outputs": [],
   "source": [
    "X = dfna.drop('TARGET', axis = 1)\n"
   ]
  },
  {
   "cell_type": "code",
   "execution_count": 15,
   "metadata": {},
   "outputs": [],
   "source": [
    "Y = dfna['TARGET']"
   ]
  },
  {
   "cell_type": "code",
   "execution_count": 16,
   "metadata": {
    "scrolled": false
   },
   "outputs": [
    {
     "data": {
      "text/plain": [
       "Index(['SK_ID_CURR', 'NAME_CONTRACT_TYPE', 'CODE_GENDER', 'FLAG_OWN_CAR',\n",
       "       'FLAG_OWN_REALTY', 'CNT_CHILDREN', 'AMT_INCOME_TOTAL', 'AMT_CREDIT',\n",
       "       'AMT_ANNUITY', 'AMT_GOODS_PRICE',\n",
       "       ...\n",
       "       'FLAG_DOCUMENT_18', 'FLAG_DOCUMENT_19', 'FLAG_DOCUMENT_20',\n",
       "       'FLAG_DOCUMENT_21', 'AMT_REQ_CREDIT_BUREAU_HOUR',\n",
       "       'AMT_REQ_CREDIT_BUREAU_DAY', 'AMT_REQ_CREDIT_BUREAU_WEEK',\n",
       "       'AMT_REQ_CREDIT_BUREAU_MON', 'AMT_REQ_CREDIT_BUREAU_QRT',\n",
       "       'AMT_REQ_CREDIT_BUREAU_YEAR'],\n",
       "      dtype='object', length=121)"
      ]
     },
     "execution_count": 16,
     "metadata": {},
     "output_type": "execute_result"
    }
   ],
   "source": [
    "X.columns"
   ]
  },
  {
   "cell_type": "code",
   "execution_count": 17,
   "metadata": {},
   "outputs": [],
   "source": [
    "#One Hot Coding:\n",
    "dfonehot = pd.get_dummies(dfna, columns=['NAME_CONTRACT_TYPE','CODE_GENDER','FLAG_OWN_CAR','FLAG_OWN_REALTY','NAME_TYPE_SUITE','NAME_INCOME_TYPE','NAME_EDUCATION_TYPE','NAME_FAMILY_STATUS','NAME_HOUSING_TYPE','OCCUPATION_TYPE','WEEKDAY_APPR_PROCESS_START','ORGANIZATION_TYPE','FONDKAPREMONT_MODE','HOUSETYPE_MODE','WALLSMATERIAL_MODE','EMERGENCYSTATE_MODE'])"
   ]
  },
  {
   "cell_type": "code",
   "execution_count": 18,
   "metadata": {
    "scrolled": true
   },
   "outputs": [
    {
     "name": "stdout",
     "output_type": "stream",
     "text": [
      "['SK_ID_CURR' 'TARGET' 'CNT_CHILDREN' 'AMT_INCOME_TOTAL' 'AMT_CREDIT'\n",
      " 'AMT_ANNUITY' 'AMT_GOODS_PRICE' 'REGION_POPULATION_RELATIVE' 'DAYS_BIRTH'\n",
      " 'DAYS_EMPLOYED' 'DAYS_REGISTRATION' 'DAYS_ID_PUBLISH' 'OWN_CAR_AGE'\n",
      " 'FLAG_MOBIL' 'FLAG_EMP_PHONE' 'FLAG_WORK_PHONE' 'FLAG_CONT_MOBILE'\n",
      " 'FLAG_PHONE' 'FLAG_EMAIL' 'CNT_FAM_MEMBERS' 'REGION_RATING_CLIENT'\n",
      " 'REGION_RATING_CLIENT_W_CITY' 'HOUR_APPR_PROCESS_START'\n",
      " 'REG_REGION_NOT_LIVE_REGION' 'REG_REGION_NOT_WORK_REGION'\n",
      " 'LIVE_REGION_NOT_WORK_REGION' 'REG_CITY_NOT_LIVE_CITY'\n",
      " 'REG_CITY_NOT_WORK_CITY' 'LIVE_CITY_NOT_WORK_CITY' 'EXT_SOURCE_1'\n",
      " 'EXT_SOURCE_2' 'EXT_SOURCE_3' 'APARTMENTS_AVG' 'BASEMENTAREA_AVG'\n",
      " 'YEARS_BEGINEXPLUATATION_AVG' 'YEARS_BUILD_AVG' 'COMMONAREA_AVG'\n",
      " 'ELEVATORS_AVG' 'ENTRANCES_AVG' 'FLOORSMAX_AVG' 'FLOORSMIN_AVG'\n",
      " 'LANDAREA_AVG' 'LIVINGAPARTMENTS_AVG' 'LIVINGAREA_AVG'\n",
      " 'NONLIVINGAPARTMENTS_AVG' 'NONLIVINGAREA_AVG' 'APARTMENTS_MODE'\n",
      " 'BASEMENTAREA_MODE' 'YEARS_BEGINEXPLUATATION_MODE' 'YEARS_BUILD_MODE'\n",
      " 'COMMONAREA_MODE' 'ELEVATORS_MODE' 'ENTRANCES_MODE' 'FLOORSMAX_MODE'\n",
      " 'FLOORSMIN_MODE' 'LANDAREA_MODE' 'LIVINGAPARTMENTS_MODE'\n",
      " 'LIVINGAREA_MODE' 'NONLIVINGAPARTMENTS_MODE' 'NONLIVINGAREA_MODE'\n",
      " 'APARTMENTS_MEDI' 'BASEMENTAREA_MEDI' 'YEARS_BEGINEXPLUATATION_MEDI'\n",
      " 'YEARS_BUILD_MEDI' 'COMMONAREA_MEDI' 'ELEVATORS_MEDI' 'ENTRANCES_MEDI'\n",
      " 'FLOORSMAX_MEDI' 'FLOORSMIN_MEDI' 'LANDAREA_MEDI' 'LIVINGAPARTMENTS_MEDI'\n",
      " 'LIVINGAREA_MEDI' 'NONLIVINGAPARTMENTS_MEDI' 'NONLIVINGAREA_MEDI'\n",
      " 'TOTALAREA_MODE' 'OBS_30_CNT_SOCIAL_CIRCLE' 'DEF_30_CNT_SOCIAL_CIRCLE'\n",
      " 'OBS_60_CNT_SOCIAL_CIRCLE' 'DEF_60_CNT_SOCIAL_CIRCLE'\n",
      " 'DAYS_LAST_PHONE_CHANGE' 'FLAG_DOCUMENT_2' 'FLAG_DOCUMENT_3'\n",
      " 'FLAG_DOCUMENT_4' 'FLAG_DOCUMENT_5' 'FLAG_DOCUMENT_6' 'FLAG_DOCUMENT_7'\n",
      " 'FLAG_DOCUMENT_8' 'FLAG_DOCUMENT_9' 'FLAG_DOCUMENT_10' 'FLAG_DOCUMENT_11'\n",
      " 'FLAG_DOCUMENT_12' 'FLAG_DOCUMENT_13' 'FLAG_DOCUMENT_14'\n",
      " 'FLAG_DOCUMENT_15' 'FLAG_DOCUMENT_16' 'FLAG_DOCUMENT_17'\n",
      " 'FLAG_DOCUMENT_18' 'FLAG_DOCUMENT_19' 'FLAG_DOCUMENT_20'\n",
      " 'FLAG_DOCUMENT_21' 'AMT_REQ_CREDIT_BUREAU_HOUR'\n",
      " 'AMT_REQ_CREDIT_BUREAU_DAY' 'AMT_REQ_CREDIT_BUREAU_WEEK'\n",
      " 'AMT_REQ_CREDIT_BUREAU_MON' 'AMT_REQ_CREDIT_BUREAU_QRT'\n",
      " 'AMT_REQ_CREDIT_BUREAU_YEAR' 'NAME_CONTRACT_TYPE_Cash loans'\n",
      " 'NAME_CONTRACT_TYPE_Revolving loans' 'CODE_GENDER_F' 'CODE_GENDER_M'\n",
      " 'FLAG_OWN_CAR_Y' 'FLAG_OWN_REALTY_N' 'FLAG_OWN_REALTY_Y'\n",
      " 'NAME_TYPE_SUITE_Children' 'NAME_TYPE_SUITE_Family'\n",
      " 'NAME_TYPE_SUITE_Group of people' 'NAME_TYPE_SUITE_Other_A'\n",
      " 'NAME_TYPE_SUITE_Other_B' 'NAME_TYPE_SUITE_Spouse, partner'\n",
      " 'NAME_TYPE_SUITE_Unaccompanied' 'NAME_INCOME_TYPE_Commercial associate'\n",
      " 'NAME_INCOME_TYPE_State servant' 'NAME_INCOME_TYPE_Working'\n",
      " 'NAME_EDUCATION_TYPE_Academic degree'\n",
      " 'NAME_EDUCATION_TYPE_Higher education'\n",
      " 'NAME_EDUCATION_TYPE_Incomplete higher'\n",
      " 'NAME_EDUCATION_TYPE_Lower secondary'\n",
      " 'NAME_EDUCATION_TYPE_Secondary / secondary special'\n",
      " 'NAME_FAMILY_STATUS_Civil marriage' 'NAME_FAMILY_STATUS_Married'\n",
      " 'NAME_FAMILY_STATUS_Separated' 'NAME_FAMILY_STATUS_Single / not married'\n",
      " 'NAME_FAMILY_STATUS_Widow' 'NAME_HOUSING_TYPE_Co-op apartment'\n",
      " 'NAME_HOUSING_TYPE_House / apartment'\n",
      " 'NAME_HOUSING_TYPE_Municipal apartment'\n",
      " 'NAME_HOUSING_TYPE_Office apartment' 'NAME_HOUSING_TYPE_Rented apartment'\n",
      " 'NAME_HOUSING_TYPE_With parents' 'OCCUPATION_TYPE_Accountants'\n",
      " 'OCCUPATION_TYPE_Cleaning staff' 'OCCUPATION_TYPE_Cooking staff'\n",
      " 'OCCUPATION_TYPE_Core staff' 'OCCUPATION_TYPE_Drivers'\n",
      " 'OCCUPATION_TYPE_HR staff' 'OCCUPATION_TYPE_High skill tech staff'\n",
      " 'OCCUPATION_TYPE_IT staff' 'OCCUPATION_TYPE_Laborers'\n",
      " 'OCCUPATION_TYPE_Low-skill Laborers' 'OCCUPATION_TYPE_Managers'\n",
      " 'OCCUPATION_TYPE_Medicine staff' 'OCCUPATION_TYPE_Private service staff'\n",
      " 'OCCUPATION_TYPE_Realty agents' 'OCCUPATION_TYPE_Sales staff'\n",
      " 'OCCUPATION_TYPE_Secretaries' 'OCCUPATION_TYPE_Security staff'\n",
      " 'OCCUPATION_TYPE_Waiters/barmen staff'\n",
      " 'WEEKDAY_APPR_PROCESS_START_FRIDAY' 'WEEKDAY_APPR_PROCESS_START_MONDAY'\n",
      " 'WEEKDAY_APPR_PROCESS_START_SATURDAY' 'WEEKDAY_APPR_PROCESS_START_SUNDAY'\n",
      " 'WEEKDAY_APPR_PROCESS_START_THURSDAY'\n",
      " 'WEEKDAY_APPR_PROCESS_START_TUESDAY'\n",
      " 'WEEKDAY_APPR_PROCESS_START_WEDNESDAY' 'ORGANIZATION_TYPE_Advertising'\n",
      " 'ORGANIZATION_TYPE_Agriculture' 'ORGANIZATION_TYPE_Bank'\n",
      " 'ORGANIZATION_TYPE_Business Entity Type 1'\n",
      " 'ORGANIZATION_TYPE_Business Entity Type 2'\n",
      " 'ORGANIZATION_TYPE_Business Entity Type 3' 'ORGANIZATION_TYPE_Cleaning'\n",
      " 'ORGANIZATION_TYPE_Construction' 'ORGANIZATION_TYPE_Culture'\n",
      " 'ORGANIZATION_TYPE_Electricity' 'ORGANIZATION_TYPE_Emergency'\n",
      " 'ORGANIZATION_TYPE_Government' 'ORGANIZATION_TYPE_Hotel'\n",
      " 'ORGANIZATION_TYPE_Housing' 'ORGANIZATION_TYPE_Industry: type 1'\n",
      " 'ORGANIZATION_TYPE_Industry: type 10'\n",
      " 'ORGANIZATION_TYPE_Industry: type 11'\n",
      " 'ORGANIZATION_TYPE_Industry: type 12'\n",
      " 'ORGANIZATION_TYPE_Industry: type 2' 'ORGANIZATION_TYPE_Industry: type 3'\n",
      " 'ORGANIZATION_TYPE_Industry: type 4' 'ORGANIZATION_TYPE_Industry: type 5'\n",
      " 'ORGANIZATION_TYPE_Industry: type 6' 'ORGANIZATION_TYPE_Industry: type 7'\n",
      " 'ORGANIZATION_TYPE_Industry: type 8' 'ORGANIZATION_TYPE_Industry: type 9'\n",
      " 'ORGANIZATION_TYPE_Insurance' 'ORGANIZATION_TYPE_Kindergarten'\n",
      " 'ORGANIZATION_TYPE_Legal Services' 'ORGANIZATION_TYPE_Medicine'\n",
      " 'ORGANIZATION_TYPE_Military' 'ORGANIZATION_TYPE_Mobile'\n",
      " 'ORGANIZATION_TYPE_Other' 'ORGANIZATION_TYPE_Police'\n",
      " 'ORGANIZATION_TYPE_Postal' 'ORGANIZATION_TYPE_Realtor'\n",
      " 'ORGANIZATION_TYPE_Religion' 'ORGANIZATION_TYPE_Restaurant'\n",
      " 'ORGANIZATION_TYPE_School' 'ORGANIZATION_TYPE_Security'\n",
      " 'ORGANIZATION_TYPE_Security Ministries' 'ORGANIZATION_TYPE_Self-employed'\n",
      " 'ORGANIZATION_TYPE_Services' 'ORGANIZATION_TYPE_Telecom'\n",
      " 'ORGANIZATION_TYPE_Trade: type 1' 'ORGANIZATION_TYPE_Trade: type 2'\n",
      " 'ORGANIZATION_TYPE_Trade: type 3' 'ORGANIZATION_TYPE_Trade: type 4'\n",
      " 'ORGANIZATION_TYPE_Trade: type 6' 'ORGANIZATION_TYPE_Trade: type 7'\n",
      " 'ORGANIZATION_TYPE_Transport: type 1'\n",
      " 'ORGANIZATION_TYPE_Transport: type 2'\n",
      " 'ORGANIZATION_TYPE_Transport: type 3'\n",
      " 'ORGANIZATION_TYPE_Transport: type 4' 'ORGANIZATION_TYPE_University'\n",
      " 'FONDKAPREMONT_MODE_not specified' 'FONDKAPREMONT_MODE_org spec account'\n",
      " 'FONDKAPREMONT_MODE_reg oper account'\n",
      " 'FONDKAPREMONT_MODE_reg oper spec account'\n",
      " 'HOUSETYPE_MODE_block of flats' 'HOUSETYPE_MODE_specific housing'\n",
      " 'HOUSETYPE_MODE_terraced house' 'WALLSMATERIAL_MODE_Block'\n",
      " 'WALLSMATERIAL_MODE_Mixed' 'WALLSMATERIAL_MODE_Monolithic'\n",
      " 'WALLSMATERIAL_MODE_Others' 'WALLSMATERIAL_MODE_Panel'\n",
      " 'WALLSMATERIAL_MODE_Stone, brick' 'WALLSMATERIAL_MODE_Wooden'\n",
      " 'EMERGENCYSTATE_MODE_No' 'EMERGENCYSTATE_MODE_Yes']\n"
     ]
    }
   ],
   "source": [
    "print(dfonehot.columns.values)"
   ]
  },
  {
   "cell_type": "code",
   "execution_count": 19,
   "metadata": {},
   "outputs": [],
   "source": [
    "X_new = dfonehot.drop('TARGET', axis = 1)"
   ]
  },
  {
   "cell_type": "code",
   "execution_count": 20,
   "metadata": {},
   "outputs": [],
   "source": [
    "Y_new = dfonehot['TARGET']"
   ]
  },
  {
   "cell_type": "code",
   "execution_count": 21,
   "metadata": {},
   "outputs": [
    {
     "data": {
      "text/plain": [
       "(8602, 235)"
      ]
     },
     "execution_count": 21,
     "metadata": {},
     "output_type": "execute_result"
    }
   ],
   "source": [
    "dfonehot.shape"
   ]
  },
  {
   "cell_type": "code",
   "execution_count": 22,
   "metadata": {},
   "outputs": [],
   "source": [
    "X_train,X_test,Y_train,Y_test=model_selection.train_test_split(X_new,Y_new,test_size=0.3)"
   ]
  },
  {
   "cell_type": "code",
   "execution_count": 23,
   "metadata": {
    "scrolled": true
   },
   "outputs": [
    {
     "name": "stdout",
     "output_type": "stream",
     "text": [
      "(6021, 234) (2581, 234) (6021,) (2581,)\n"
     ]
    }
   ],
   "source": [
    "print(X_train.shape,X_test.shape,Y_train.shape,Y_test.shape)"
   ]
  },
  {
   "cell_type": "code",
   "execution_count": 24,
   "metadata": {},
   "outputs": [],
   "source": [
    "x = np.asarray(X_train).astype('float32')"
   ]
  },
  {
   "cell_type": "code",
   "execution_count": 25,
   "metadata": {},
   "outputs": [],
   "source": [
    "x_test = np.asarray(X_test).astype('float32')"
   ]
  },
  {
   "cell_type": "code",
   "execution_count": 26,
   "metadata": {},
   "outputs": [],
   "source": [
    "from imblearn.under_sampling import RandomUnderSampler"
   ]
  },
  {
   "cell_type": "code",
   "execution_count": 27,
   "metadata": {},
   "outputs": [],
   "source": [
    "undersample = RandomUnderSampler(sampling_strategy='majority')\n",
    "\n",
    "# fit and apply the transform\n",
    "X_train_under, Y_train_under = undersample.fit_resample(X_train, Y_train)"
   ]
  },
  {
   "cell_type": "code",
   "execution_count": 28,
   "metadata": {},
   "outputs": [],
   "source": [
    "undersample = RandomUnderSampler(sampling_strategy='majority')\n",
    "\n",
    "# fit and apply the transform\n",
    "X_test_under, Y_test_under = undersample.fit_resample(X_test, Y_test)"
   ]
  },
  {
   "cell_type": "code",
   "execution_count": 29,
   "metadata": {},
   "outputs": [],
   "source": [
    "from collections import Counter"
   ]
  },
  {
   "cell_type": "code",
   "execution_count": 30,
   "metadata": {},
   "outputs": [
    {
     "name": "stdout",
     "output_type": "stream",
     "text": [
      "After undersampling:  Counter({0: 350, 1: 350})\n"
     ]
    }
   ],
   "source": [
    "print(\"After undersampling: \", Counter(Y_train_under))"
   ]
  },
  {
   "cell_type": "code",
   "execution_count": 31,
   "metadata": {},
   "outputs": [
    {
     "data": {
      "image/png": "[encoded data removed]",
      "text/plain": [
       "<Figure size 432x360 with 1 Axes>"
      ]
     },
     "metadata": {
      "needs_background": "light"
     },
     "output_type": "display_data"
    }
   ],
   "source": [
    "import matplotlib.pyplot as plt\n",
    "import seaborn as sn\n",
    "plt.figure(figsize=(6,5))\n",
    "sn.countplot(x='TARGET', data=dfonehot,\n",
    "            palette=\"BuGn_r\")\n",
    "plt.show()"
   ]
  },
  {
   "cell_type": "code",
   "execution_count": 32,
   "metadata": {
    "scrolled": false
   },
   "outputs": [
    {
     "data": {
      "image/png": "[encoded data removed]",
      "text/plain": [
       "<Figure size 432x360 with 1 Axes>"
      ]
     },
     "metadata": {
      "needs_background": "light"
     },
     "output_type": "display_data"
    }
   ],
   "source": [
    "import matplotlib.pyplot as plt\n",
    "import seaborn as sn\n",
    "plt.figure(figsize=(6,5))\n",
    "sn.countplot(x=Y_train_under, \n",
    "            palette=\"BuGn_r\")\n",
    "plt.show()"
   ]
  },
  {
   "cell_type": "code",
   "execution_count": 33,
   "metadata": {},
   "outputs": [],
   "source": [
    "Early_Stopping = callbacks.EarlyStopping(min_delta = 0.001, patience = 20, restore_best_weights = True)"
   ]
  },
  {
   "cell_type": "code",
   "execution_count": 34,
   "metadata": {},
   "outputs": [],
   "source": [
    "model = keras.Sequential([\n",
    "    layers.Dense(25,activation='relu',input_shape=[234]),\n",
    "    layers.Dropout(0.3),\n",
    "    layers.BatchNormalization(),\n",
    "    layers.Dense(10,activation='relu'),\n",
    "    layers.Dropout(0.3),\n",
    "    layers.Dense(12,activation='relu'),\n",
    "    layers.Dense(1),\n",
    "])"
   ]
  },
  {
   "cell_type": "code",
   "execution_count": 35,
   "metadata": {},
   "outputs": [],
   "source": [
    "model.compile(optimizer = 'adam', loss = 'binary_crossentropy')\n"
   ]
  },
  {
   "cell_type": "code",
   "execution_count": 36,
   "metadata": {
    "scrolled": true
   },
   "outputs": [
    {
     "name": "stdout",
     "output_type": "stream",
     "text": [
      "Epoch 1/500\n",
      "3/3 - 3s - loss: 4.6227 - val_loss: 5.0944\n",
      "Epoch 2/500\n",
      "3/3 - 0s - loss: 4.3342 - val_loss: 4.5775\n",
      "Epoch 3/500\n",
      "3/3 - 0s - loss: 3.8848 - val_loss: 4.1240\n",
      "Epoch 4/500\n",
      "3/3 - 0s - loss: 3.8680 - val_loss: 3.4429\n",
      "Epoch 5/500\n",
      "3/3 - 0s - loss: 3.4487 - val_loss: 2.7323\n",
      "Epoch 6/500\n",
      "3/3 - 0s - loss: 3.2875 - val_loss: 2.0268\n",
      "Epoch 7/500\n",
      "3/3 - 0s - loss: 2.8710 - val_loss: 1.7835\n",
      "Epoch 8/500\n",
      "3/3 - 0s - loss: 2.6835 - val_loss: 1.6842\n",
      "Epoch 9/500\n",
      "3/3 - 0s - loss: 2.8088 - val_loss: 1.4849\n",
      "Epoch 10/500\n",
      "3/3 - 0s - loss: 2.3095 - val_loss: 1.4520\n",
      "Epoch 11/500\n",
      "3/3 - 0s - loss: 2.4115 - val_loss: 1.4004\n",
      "Epoch 12/500\n",
      "3/3 - 0s - loss: 2.3702 - val_loss: 1.3594\n",
      "Epoch 13/500\n",
      "3/3 - 0s - loss: 2.4602 - val_loss: 1.3555\n",
      "Epoch 14/500\n",
      "3/3 - 0s - loss: 2.0008 - val_loss: 1.2763\n",
      "Epoch 15/500\n",
      "3/3 - 0s - loss: 2.1052 - val_loss: 1.2343\n",
      "Epoch 16/500\n",
      "3/3 - 0s - loss: 2.0992 - val_loss: 1.1591\n",
      "Epoch 17/500\n",
      "3/3 - 0s - loss: 2.3522 - val_loss: 1.1449\n",
      "Epoch 18/500\n",
      "3/3 - 0s - loss: 1.9046 - val_loss: 1.1012\n",
      "Epoch 19/500\n",
      "3/3 - 0s - loss: 1.7603 - val_loss: 1.0943\n",
      "Epoch 20/500\n",
      "3/3 - 0s - loss: 1.9438 - val_loss: 1.0913\n",
      "Epoch 21/500\n",
      "3/3 - 0s - loss: 2.3676 - val_loss: 1.0868\n",
      "Epoch 22/500\n",
      "3/3 - 0s - loss: 1.9631 - val_loss: 1.0805\n",
      "Epoch 23/500\n",
      "3/3 - 0s - loss: 1.9256 - val_loss: 1.0457\n",
      "Epoch 24/500\n",
      "3/3 - 0s - loss: 2.1270 - val_loss: 1.0367\n",
      "Epoch 25/500\n",
      "3/3 - 0s - loss: 1.9885 - val_loss: 1.0354\n",
      "Epoch 26/500\n",
      "3/3 - 0s - loss: 2.0634 - val_loss: 1.0435\n",
      "Epoch 27/500\n",
      "3/3 - 0s - loss: 1.8357 - val_loss: 1.0484\n",
      "Epoch 28/500\n",
      "3/3 - 0s - loss: 1.5241 - val_loss: 1.0499\n",
      "Epoch 29/500\n",
      "3/3 - 0s - loss: 1.5666 - val_loss: 1.0505\n",
      "Epoch 30/500\n",
      "3/3 - 0s - loss: 1.8130 - val_loss: 1.0502\n",
      "Epoch 31/500\n",
      "3/3 - 0s - loss: 1.8183 - val_loss: 1.0505\n",
      "Epoch 32/500\n",
      "3/3 - 0s - loss: 1.7306 - val_loss: 1.0502\n",
      "Epoch 33/500\n",
      "3/3 - 0s - loss: 1.8688 - val_loss: 1.0497\n",
      "Epoch 34/500\n",
      "3/3 - 0s - loss: 1.6013 - val_loss: 1.0455\n",
      "Epoch 35/500\n",
      "3/3 - 0s - loss: 1.6950 - val_loss: 1.0417\n",
      "Epoch 36/500\n",
      "3/3 - 0s - loss: 1.6881 - val_loss: 1.0359\n",
      "Epoch 37/500\n",
      "3/3 - 0s - loss: 1.7059 - val_loss: 1.0325\n",
      "Epoch 38/500\n",
      "3/3 - 0s - loss: 1.5662 - val_loss: 1.0263\n",
      "Epoch 39/500\n",
      "3/3 - 0s - loss: 1.6051 - val_loss: 1.0216\n",
      "Epoch 40/500\n",
      "3/3 - 0s - loss: 1.5517 - val_loss: 1.0172\n",
      "Epoch 41/500\n",
      "3/3 - 0s - loss: 1.6636 - val_loss: 1.0124\n",
      "Epoch 42/500\n",
      "3/3 - 0s - loss: 1.7961 - val_loss: 1.0103\n",
      "Epoch 43/500\n",
      "3/3 - 0s - loss: 1.4928 - val_loss: 1.0089\n",
      "Epoch 44/500\n",
      "3/3 - 0s - loss: 1.7227 - val_loss: 1.0075\n",
      "Epoch 45/500\n",
      "3/3 - 0s - loss: 1.7230 - val_loss: 1.0055\n",
      "Epoch 46/500\n",
      "3/3 - 0s - loss: 1.8298 - val_loss: 1.0043\n",
      "Epoch 47/500\n",
      "3/3 - 0s - loss: 1.5136 - val_loss: 1.0023\n",
      "Epoch 48/500\n",
      "3/3 - 0s - loss: 1.6536 - val_loss: 1.0003\n",
      "Epoch 49/500\n",
      "3/3 - 0s - loss: 1.4270 - val_loss: 0.9983\n",
      "Epoch 50/500\n",
      "3/3 - 0s - loss: 1.5328 - val_loss: 0.9981\n",
      "Epoch 51/500\n",
      "3/3 - 0s - loss: 1.5970 - val_loss: 0.9960\n",
      "Epoch 52/500\n",
      "3/3 - 0s - loss: 1.5291 - val_loss: 0.9944\n",
      "Epoch 53/500\n",
      "3/3 - 0s - loss: 1.4309 - val_loss: 0.9926\n",
      "Epoch 54/500\n",
      "3/3 - 0s - loss: 1.6751 - val_loss: 0.9916\n",
      "Epoch 55/500\n",
      "3/3 - 0s - loss: 1.7219 - val_loss: 0.9913\n",
      "Epoch 56/500\n",
      "3/3 - 0s - loss: 1.5029 - val_loss: 0.9899\n",
      "Epoch 57/500\n",
      "3/3 - 0s - loss: 1.6005 - val_loss: 0.9881\n",
      "Epoch 58/500\n",
      "3/3 - 0s - loss: 1.5565 - val_loss: 0.9857\n",
      "Epoch 59/500\n",
      "3/3 - 0s - loss: 1.4070 - val_loss: 0.9834\n",
      "Epoch 60/500\n",
      "3/3 - 0s - loss: 1.6239 - val_loss: 0.9776\n",
      "Epoch 61/500\n",
      "3/3 - 0s - loss: 1.4768 - val_loss: 0.9732\n",
      "Epoch 62/500\n",
      "3/3 - 0s - loss: 1.6458 - val_loss: 0.9709\n",
      "Epoch 63/500\n",
      "3/3 - 0s - loss: 1.5583 - val_loss: 0.9927\n",
      "Epoch 64/500\n",
      "3/3 - 0s - loss: 1.3353 - val_loss: 0.9873\n",
      "Epoch 65/500\n",
      "3/3 - 0s - loss: 1.4067 - val_loss: 0.9823\n",
      "Epoch 66/500\n",
      "3/3 - 0s - loss: 1.3154 - val_loss: 0.9798\n",
      "Epoch 67/500\n",
      "3/3 - 0s - loss: 1.2449 - val_loss: 0.9784\n",
      "Epoch 68/500\n",
      "3/3 - 0s - loss: 1.5189 - val_loss: 0.9763\n",
      "Epoch 69/500\n",
      "3/3 - 0s - loss: 1.6310 - val_loss: 0.9751\n",
      "Epoch 70/500\n",
      "3/3 - 0s - loss: 1.5515 - val_loss: 0.9743\n",
      "Epoch 71/500\n",
      "3/3 - 0s - loss: 1.4113 - val_loss: 0.9740\n",
      "Epoch 72/500\n",
      "3/3 - 0s - loss: 1.3718 - val_loss: 0.9731\n",
      "Epoch 73/500\n",
      "3/3 - 0s - loss: 1.5532 - val_loss: 0.9450\n",
      "Epoch 74/500\n",
      "3/3 - 0s - loss: 1.3845 - val_loss: 0.9401\n",
      "Epoch 75/500\n",
      "3/3 - 0s - loss: 1.2302 - val_loss: 0.9374\n",
      "Epoch 76/500\n",
      "3/3 - 0s - loss: 1.3899 - val_loss: 0.9354\n",
      "Epoch 77/500\n",
      "3/3 - 0s - loss: 1.3552 - val_loss: 0.9334\n",
      "Epoch 78/500\n",
      "3/3 - 0s - loss: 1.5219 - val_loss: 0.9326\n",
      "Epoch 79/500\n",
      "3/3 - 0s - loss: 1.3097 - val_loss: 0.9325\n",
      "Epoch 80/500\n",
      "3/3 - 0s - loss: 1.3951 - val_loss: 0.9335\n",
      "Epoch 81/500\n",
      "3/3 - 0s - loss: 1.4571 - val_loss: 0.9052\n",
      "Epoch 82/500\n",
      "3/3 - 0s - loss: 1.3635 - val_loss: 0.9022\n",
      "Epoch 83/500\n",
      "3/3 - 0s - loss: 1.4491 - val_loss: 0.9013\n",
      "Epoch 84/500\n",
      "3/3 - 0s - loss: 1.6458 - val_loss: 0.9016\n",
      "Epoch 85/500\n",
      "3/3 - 0s - loss: 1.3761 - val_loss: 0.9032\n",
      "Epoch 86/500\n",
      "3/3 - 0s - loss: 1.3893 - val_loss: 0.9040\n",
      "Epoch 87/500\n",
      "3/3 - 0s - loss: 1.4105 - val_loss: 0.9050\n",
      "Epoch 88/500\n",
      "3/3 - 0s - loss: 1.4547 - val_loss: 0.9060\n",
      "Epoch 89/500\n",
      "3/3 - 0s - loss: 1.2421 - val_loss: 0.9063\n",
      "Epoch 90/500\n",
      "3/3 - 0s - loss: 1.3248 - val_loss: 0.9070\n",
      "Epoch 91/500\n",
      "3/3 - 0s - loss: 1.2799 - val_loss: 0.9078\n",
      "Epoch 92/500\n",
      "3/3 - 0s - loss: 1.4577 - val_loss: 0.9086\n",
      "Epoch 93/500\n",
      "3/3 - 0s - loss: 1.2809 - val_loss: 0.9089\n",
      "Epoch 94/500\n",
      "3/3 - 0s - loss: 1.4506 - val_loss: 0.9085\n",
      "Epoch 95/500\n",
      "3/3 - 0s - loss: 1.3059 - val_loss: 0.9084\n",
      "Epoch 96/500\n",
      "3/3 - 0s - loss: 1.5115 - val_loss: 0.9085\n",
      "Epoch 97/500\n",
      "3/3 - 0s - loss: 1.5035 - val_loss: 0.9078\n",
      "Epoch 98/500\n",
      "3/3 - 0s - loss: 1.2772 - val_loss: 0.9072\n",
      "Epoch 99/500\n",
      "3/3 - 0s - loss: 1.2140 - val_loss: 0.9085\n",
      "Epoch 100/500\n",
      "3/3 - 0s - loss: 1.2586 - val_loss: 0.9087\n",
      "Epoch 101/500\n",
      "3/3 - 0s - loss: 1.3542 - val_loss: 0.9087\n",
      "Epoch 102/500\n",
      "3/3 - 0s - loss: 1.4060 - val_loss: 0.9085\n"
     ]
    }
   ],
   "source": [
    "history = model.fit(X_train_under,Y_train_under,\n",
    "                  validation_data=(X_test_under,Y_test_under),batch_size=256,\n",
    "                  epochs=500,callbacks=[Early_Stopping],verbose=2)"
   ]
  },
  {
   "cell_type": "code",
   "execution_count": 37,
   "metadata": {},
   "outputs": [],
   "source": [
    "history_df=pd.DataFrame(history.history)"
   ]
  },
  {
   "cell_type": "code",
   "execution_count": 38,
   "metadata": {
    "scrolled": true
   },
   "outputs": [
    {
     "data": {
      "text/plain": [
       "Index(['loss', 'val_loss'], dtype='object')"
      ]
     },
     "execution_count": 38,
     "metadata": {},
     "output_type": "execute_result"
    }
   ],
   "source": [
    "history_df.columns"
   ]
  },
  {
   "cell_type": "code",
   "execution_count": 39,
   "metadata": {},
   "outputs": [
    {
     "data": {
      "text/plain": [
       "<AxesSubplot:>"
      ]
     },
     "execution_count": 39,
     "metadata": {},
     "output_type": "execute_result"
    },
    {
     "data": {
      "image/png": "[encoded data removed]",
      "text/plain": [
       "<Figure size 432x288 with 1 Axes>"
      ]
     },
     "metadata": {
      "needs_background": "light"
     },
     "output_type": "display_data"
    }
   ],
   "source": [
    "history_df.loc[:,'loss'].plot()"
   ]
  },
  {
   "cell_type": "code",
   "execution_count": 40,
   "metadata": {
    "scrolled": true
   },
   "outputs": [
    {
     "name": "stdout",
     "output_type": "stream",
     "text": [
      "22/22 [==============================] - 0s 1ms/step - loss: 0.9278\n"
     ]
    }
   ],
   "source": [
    "accuracy=model.evaluate(X_train_under,Y_train_under)"
   ]
  },
  {
   "cell_type": "code",
   "execution_count": 41,
   "metadata": {},
   "outputs": [
    {
     "name": "stdout",
     "output_type": "stream",
     "text": [
      "92.78468489646912\n"
     ]
    }
   ],
   "source": [
    "print(accuracy*100)"
   ]
  },
  {
   "cell_type": "code",
   "execution_count": 59,
   "metadata": {
    "scrolled": true
   },
   "outputs": [
    {
     "data": {
      "text/plain": [
       "0      0\n",
       "1      0\n",
       "2      0\n",
       "3      0\n",
       "4      0\n",
       "      ..\n",
       "347    1\n",
       "348    1\n",
       "349    1\n",
       "350    1\n",
       "351    1\n",
       "Name: TARGET, Length: 352, dtype: int64"
      ]
     },
     "execution_count": 59,
     "metadata": {},
     "output_type": "execute_result"
    }
   ],
   "source": [
    "Y_test_under"
   ]
  },
  {
   "cell_type": "code",
   "execution_count": 61,
   "metadata": {
    "scrolled": true
   },
   "outputs": [
    {
     "name": "stderr",
     "output_type": "stream",
     "text": [
      "C:\\Users\\utkar\\anaconda3\\envs\\tensorflow_env\\lib\\site-packages\\tensorflow\\python\\keras\\engine\\sequential.py:450: UserWarning: `model.predict_classes()` is deprecated and will be removed after 2021-01-01. Please use instead:* `np.argmax(model.predict(x), axis=-1)`,   if your model does multi-class classification   (e.g. if it uses a `softmax` last-layer activation).* `(model.predict(x) > 0.5).astype(\"int32\")`,   if your model does binary classification   (e.g. if it uses a `sigmoid` last-layer activation).\n",
      "  warnings.warn('`model.predict_classes()` is deprecated and '\n"
     ]
    },
    {
     "data": {
      "text/plain": [
       "array([[0],\n",
       "       [0],\n",
       "       [0],\n",
       "       [0],\n",
       "       [0],\n",
       "       [0],\n",
       "       [0],\n",
       "       [0],\n",
       "       [0],\n",
       "       [0],\n",
       "       [0],\n",
       "       [0],\n",
       "       [0],\n",
       "       [0],\n",
       "       [0],\n",
       "       [0],\n",
       "       [0],\n",
       "       [0],\n",
       "       [0],\n",
       "       [0],\n",
       "       [0],\n",
       "       [0],\n",
       "       [0],\n",
       "       [0],\n",
       "       [0],\n",
       "       [0],\n",
       "       [0],\n",
       "       [0],\n",
       "       [0],\n",
       "       [0],\n",
       "       [0],\n",
       "       [0],\n",
       "       [0],\n",
       "       [0],\n",
       "       [0],\n",
       "       [0],\n",
       "       [0],\n",
       "       [0],\n",
       "       [0],\n",
       "       [0],\n",
       "       [0],\n",
       "       [0],\n",
       "       [0],\n",
       "       [0],\n",
       "       [0],\n",
       "       [0],\n",
       "       [0],\n",
       "       [0],\n",
       "       [0],\n",
       "       [0],\n",
       "       [0],\n",
       "       [0],\n",
       "       [0],\n",
       "       [0],\n",
       "       [0],\n",
       "       [0],\n",
       "       [0],\n",
       "       [0],\n",
       "       [0],\n",
       "       [0],\n",
       "       [0],\n",
       "       [0],\n",
       "       [0],\n",
       "       [0],\n",
       "       [0],\n",
       "       [0],\n",
       "       [0],\n",
       "       [0],\n",
       "       [0],\n",
       "       [0],\n",
       "       [0],\n",
       "       [0],\n",
       "       [0],\n",
       "       [0],\n",
       "       [0],\n",
       "       [0],\n",
       "       [0],\n",
       "       [0],\n",
       "       [0],\n",
       "       [0],\n",
       "       [0],\n",
       "       [0],\n",
       "       [0],\n",
       "       [0],\n",
       "       [0],\n",
       "       [0],\n",
       "       [0],\n",
       "       [0],\n",
       "       [0],\n",
       "       [0],\n",
       "       [0],\n",
       "       [0],\n",
       "       [0],\n",
       "       [0],\n",
       "       [0],\n",
       "       [0],\n",
       "       [0],\n",
       "       [0],\n",
       "       [0],\n",
       "       [0],\n",
       "       [0],\n",
       "       [0],\n",
       "       [0],\n",
       "       [0],\n",
       "       [0],\n",
       "       [0],\n",
       "       [0],\n",
       "       [0],\n",
       "       [0],\n",
       "       [0],\n",
       "       [0],\n",
       "       [0],\n",
       "       [0],\n",
       "       [0],\n",
       "       [0],\n",
       "       [0],\n",
       "       [1],\n",
       "       [0],\n",
       "       [0],\n",
       "       [0],\n",
       "       [0],\n",
       "       [0],\n",
       "       [0],\n",
       "       [0],\n",
       "       [0],\n",
       "       [0],\n",
       "       [0],\n",
       "       [0],\n",
       "       [0],\n",
       "       [0],\n",
       "       [0],\n",
       "       [0],\n",
       "       [0],\n",
       "       [0],\n",
       "       [0],\n",
       "       [0],\n",
       "       [0],\n",
       "       [0],\n",
       "       [0],\n",
       "       [0],\n",
       "       [0],\n",
       "       [0],\n",
       "       [0],\n",
       "       [0],\n",
       "       [0],\n",
       "       [0],\n",
       "       [0],\n",
       "       [0],\n",
       "       [0],\n",
       "       [1],\n",
       "       [0],\n",
       "       [0],\n",
       "       [0],\n",
       "       [0],\n",
       "       [0],\n",
       "       [0],\n",
       "       [0],\n",
       "       [0],\n",
       "       [0],\n",
       "       [0],\n",
       "       [0],\n",
       "       [0],\n",
       "       [0],\n",
       "       [0],\n",
       "       [0],\n",
       "       [0],\n",
       "       [0],\n",
       "       [0],\n",
       "       [0],\n",
       "       [0],\n",
       "       [0],\n",
       "       [0],\n",
       "       [0],\n",
       "       [0],\n",
       "       [0],\n",
       "       [0],\n",
       "       [0],\n",
       "       [0],\n",
       "       [0],\n",
       "       [0],\n",
       "       [0],\n",
       "       [0],\n",
       "       [0],\n",
       "       [0],\n",
       "       [0],\n",
       "       [0],\n",
       "       [0],\n",
       "       [0],\n",
       "       [0],\n",
       "       [0],\n",
       "       [0],\n",
       "       [0],\n",
       "       [0],\n",
       "       [0],\n",
       "       [0],\n",
       "       [0],\n",
       "       [0],\n",
       "       [0],\n",
       "       [0],\n",
       "       [0],\n",
       "       [0],\n",
       "       [0],\n",
       "       [0],\n",
       "       [0],\n",
       "       [0],\n",
       "       [0],\n",
       "       [0],\n",
       "       [0],\n",
       "       [0],\n",
       "       [0],\n",
       "       [0],\n",
       "       [0],\n",
       "       [0],\n",
       "       [0],\n",
       "       [0],\n",
       "       [0],\n",
       "       [0],\n",
       "       [0],\n",
       "       [0],\n",
       "       [0],\n",
       "       [0],\n",
       "       [0],\n",
       "       [0],\n",
       "       [0],\n",
       "       [0],\n",
       "       [0],\n",
       "       [0],\n",
       "       [0],\n",
       "       [0],\n",
       "       [0],\n",
       "       [0],\n",
       "       [0],\n",
       "       [0],\n",
       "       [0],\n",
       "       [0],\n",
       "       [0],\n",
       "       [0],\n",
       "       [0],\n",
       "       [0],\n",
       "       [0],\n",
       "       [0],\n",
       "       [0],\n",
       "       [0],\n",
       "       [0],\n",
       "       [0],\n",
       "       [0],\n",
       "       [0],\n",
       "       [0],\n",
       "       [0],\n",
       "       [0],\n",
       "       [0],\n",
       "       [0],\n",
       "       [0],\n",
       "       [0],\n",
       "       [0],\n",
       "       [0],\n",
       "       [0],\n",
       "       [0],\n",
       "       [0],\n",
       "       [0],\n",
       "       [0],\n",
       "       [0],\n",
       "       [0],\n",
       "       [0],\n",
       "       [0],\n",
       "       [0],\n",
       "       [0],\n",
       "       [1],\n",
       "       [0],\n",
       "       [0],\n",
       "       [0],\n",
       "       [0],\n",
       "       [0],\n",
       "       [0],\n",
       "       [0],\n",
       "       [0],\n",
       "       [0],\n",
       "       [0],\n",
       "       [0],\n",
       "       [0],\n",
       "       [0],\n",
       "       [0],\n",
       "       [0],\n",
       "       [0],\n",
       "       [0],\n",
       "       [0],\n",
       "       [0],\n",
       "       [0],\n",
       "       [0],\n",
       "       [0],\n",
       "       [0],\n",
       "       [0],\n",
       "       [0],\n",
       "       [0],\n",
       "       [0],\n",
       "       [0],\n",
       "       [0],\n",
       "       [0],\n",
       "       [0],\n",
       "       [0],\n",
       "       [0],\n",
       "       [0],\n",
       "       [0],\n",
       "       [0],\n",
       "       [0],\n",
       "       [0],\n",
       "       [0],\n",
       "       [0],\n",
       "       [0],\n",
       "       [0],\n",
       "       [0],\n",
       "       [0],\n",
       "       [0],\n",
       "       [0],\n",
       "       [0],\n",
       "       [0],\n",
       "       [0],\n",
       "       [0],\n",
       "       [0],\n",
       "       [0],\n",
       "       [0],\n",
       "       [0],\n",
       "       [0],\n",
       "       [0],\n",
       "       [0],\n",
       "       [0],\n",
       "       [0],\n",
       "       [0],\n",
       "       [0],\n",
       "       [0],\n",
       "       [0],\n",
       "       [0],\n",
       "       [0],\n",
       "       [0],\n",
       "       [0],\n",
       "       [0],\n",
       "       [0],\n",
       "       [0],\n",
       "       [0],\n",
       "       [0],\n",
       "       [0],\n",
       "       [0],\n",
       "       [0],\n",
       "       [0],\n",
       "       [0],\n",
       "       [0],\n",
       "       [0],\n",
       "       [0],\n",
       "       [0],\n",
       "       [0],\n",
       "       [0],\n",
       "       [0]])"
      ]
     },
     "execution_count": 61,
     "metadata": {},
     "output_type": "execute_result"
    }
   ],
   "source": [
    "model.predict_classes(X_test_under)"
   ]
  },
  {
   "cell_type": "code",
   "execution_count": 58,
   "metadata": {},
   "outputs": [
    {
     "name": "stdout",
     "output_type": "stream",
     "text": [
      "Final result:  0.9886364\n"
     ]
    },
    {
     "name": "stderr",
     "output_type": "stream",
     "text": [
      "C:\\Users\\utkar\\anaconda3\\envs\\tensorflow_env\\lib\\site-packages\\tensorflow\\python\\keras\\engine\\sequential.py:450: UserWarning: `model.predict_classes()` is deprecated and will be removed after 2021-01-01. Please use instead:* `np.argmax(model.predict(x), axis=-1)`,   if your model does multi-class classification   (e.g. if it uses a `softmax` last-layer activation).* `(model.predict(x) > 0.5).astype(\"int32\")`,   if your model does binary classification   (e.g. if it uses a `sigmoid` last-layer activation).\n",
      "  warnings.warn('`model.predict_classes()` is deprecated and '\n"
     ]
    }
   ],
   "source": [
    "a = model.predict_classes(X_test_under)\n",
    "m = tf.keras.metrics.SpecificityAtSensitivity(0,num_thresholds=1)\n",
    "m.update_state(Y_test_under,a)\n",
    "print('Final result: ', m.result().numpy()) "
   ]
  }
 ],
 "metadata": {
  "kernelspec": {
   "display_name": "Python 3",
   "language": "python",
   "name": "python3"
  },
  "language_info": {
   "codemirror_mode": {
    "name": "ipython",
    "version": 3
   },
   "file_extension": ".py",
   "mimetype": "text/x-python",
   "name": "python",
   "nbconvert_exporter": "python",
   "pygments_lexer": "ipython3",
   "version": "3.8.5"
  }
 },
 "nbformat": 4,
 "nbformat_minor": 5
}
